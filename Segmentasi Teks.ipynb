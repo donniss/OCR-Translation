{
 "cells": [
  {
   "cell_type": "code",
   "execution_count": 2,
   "metadata": {},
   "outputs": [],
   "source": [
    "import numpy as np\n",
    "import cv2\n",
    "from matplotlib import pyplot as plt\n",
    "from numpy import asarray\n",
    "from numpy import savetxt\n",
    "from PIL import Image, ImageOps\n",
    "from PIL import ImageFont, ImageDraw\n",
    "import glob"
   ]
  },
  {
   "cell_type": "code",
   "execution_count": 5,
   "metadata": {},
   "outputs": [
    {
     "data": {
      "image/png": "[encoded data removed]",
      "text/plain": [
       "<Figure size 432x288 with 4 Axes>"
      ]
     },
     "metadata": {},
     "output_type": "display_data"
    }
   ],
   "source": [
    "image = cv2.imread(\"/Users/server/Documents/Data Teks/Anak/T4_F1_D3.jpg\")\n",
    "image = cv2.transpose(image)\n",
    "image = cv2.flip(image, 1)\n",
    "gray = cv2.cvtColor(image, cv2.COLOR_BGR2GRAY) \n",
    "t, thresh = cv2.threshold(gray, 105, 255, cv2.THRESH_BINARY_INV + cv2.THRESH_OTSU)\n",
    "connectivity = 8 \n",
    "num_labels, label= cv2.connectedComponents(thresh, connectivity)\n",
    "label = label + 1\n",
    "thresh = cv2.cvtColor(thresh,cv2.COLOR_GRAY2RGB)\n",
    "h, w = thresh.shape[:2]\n",
    "d = 0 #untuk penamaan\n",
    "for index in range(1, num_labels):\n",
    "    mask = np.zeros((h, w), np.uint8)\n",
    "    mask[label == index + 1] = 1\n",
    "    obj = thresh * mask[:, :, np.newaxis]\n",
    "    obj = obj[..., : : -1]\n",
    "    obj=cv2.transpose(obj)\n",
    "    obj=cv2.flip(obj, 0)\n",
    "    \n",
    "    plt.subplot(1, 10, index)\n",
    "    plt.imshow(obj)\n",
    "    plt.xticks([]), plt.yticks([])\n",
    "    plt.title(index)\n",
    "\n",
    "plt.show()"
   ]
  },
  {
   "cell_type": "code",
   "execution_count": null,
   "metadata": {},
   "outputs": [],
   "source": [
    "citra = cv2.transpose(citra)\n",
    "    \tcitra = cv2.flip(citra, 1)\n",
    "    \t#Konversi citra ke grayscale dan biner\n",
    "    \tabuAbu = cv2.cvtColor(citra, cv2.COLOR_BGR2GRAY)\n",
    "ambang, citraBiner = cv2.threshold(abuAbu, 105, 255,        \n",
    "cv2.THRESH_BINARY_INV + \n",
    "cv2.THRESH_OTSU)\n",
    "    \t#Pelabelan pada objek dengan CCA\n",
    "    \tconnectivity = 8\n",
    "    \tjumObjek, label = cv2.connectedComponents(citraBiner, \n",
    "     connectivity)\n",
    "    \tlabel = label + 1\n",
    "    \tcitraBiner = cv2.cvtColor(citraBiner,cv2.COLOR_GRAY2RGB)\n",
    "\n",
    "        for indeks in range(1, jumObjek):\n",
    "       \t(Lanjutan)\n",
    "\n",
    "mask = np.zeros((tinggi, lebar), np.uint8)\n",
    "        \tmask[label == indeks + 1] = 1\n",
    "        \tobjek = citraBiner * mask[:, :, np.newaxis]\n",
    "        \tobjek = objek[..., : : -1]\n",
    "        \tobjek = cv2.transpose(objek)\n",
    "        \tobjek = cv2.flip(objek, 0)\n",
    "        \tobjek = Image.fromarray(objek)\n",
    "        \tthresh = objek.point(lambda p: p < 25 and 255)\n",
    "#memasukkan objek kedalam citra ukuran 32x32px \n",
    "        \tbbox1 = thresh.getbbox()\n",
    "        \tcrop1 = thresh.crop(bbox1)\n",
    "        \tcrop1n = ImageOps.invert(crop1)\n",
    "        \tbbox2  = crop1n.getbbox()\n",
    "        \tcrop2  = crop1.crop(bbox2) \n",
    "        \tresult = objek.crop(bbox1).crop(bbox2)\n",
    "        \timg_w, img_h = result.size\n",
    "        \tbackground = Image.new('RGB',(32, 32), (0, 0, 0, 0))\n",
    "        \tbg_w, bg_h = background.size\n",
    "        \toffset = ((bg_w - img_w) // 2, (bg_h - img_h) // 2)\n",
    "        \tbackground.paste(result, offset)\n",
    "        \tnew = background\n"
   ]
  },
  {
   "cell_type": "code",
   "execution_count": 60,
   "metadata": {},
   "outputs": [
    {
     "ename": "NameError",
     "evalue": "name 'citra' is not defined",
     "output_type": "error",
     "traceback": [
      "\u001b[0;31m---------------------------------------------------------------------------\u001b[0m",
      "\u001b[0;31mNameError\u001b[0m                                 Traceback (most recent call last)",
      "\u001b[0;32m<ipython-input-60-46acea760b06>\u001b[0m in \u001b[0;36m<module>\u001b[0;34m\u001b[0m\n\u001b[0;32m----> 1\u001b[0;31m \u001b[0mcitra\u001b[0m \u001b[0;34m=\u001b[0m \u001b[0mcv2\u001b[0m\u001b[0;34m.\u001b[0m\u001b[0mtranspose\u001b[0m\u001b[0;34m(\u001b[0m\u001b[0mcitra\u001b[0m\u001b[0;34m)\u001b[0m\u001b[0;34m\u001b[0m\u001b[0;34m\u001b[0m\u001b[0m\n\u001b[0m\u001b[1;32m      2\u001b[0m \u001b[0mcitra\u001b[0m \u001b[0;34m=\u001b[0m \u001b[0mcv2\u001b[0m\u001b[0;34m.\u001b[0m\u001b[0mflip\u001b[0m\u001b[0;34m(\u001b[0m\u001b[0mcitra\u001b[0m\u001b[0;34m,\u001b[0m \u001b[0;36m1\u001b[0m\u001b[0;34m)\u001b[0m\u001b[0;34m\u001b[0m\u001b[0;34m\u001b[0m\u001b[0m\n\u001b[1;32m      3\u001b[0m \u001b[0;31m#Konversi citra ke grayscale dan biner\u001b[0m\u001b[0;34m\u001b[0m\u001b[0;34m\u001b[0m\u001b[0;34m\u001b[0m\u001b[0m\n\u001b[1;32m      4\u001b[0m \u001b[0mabuAbu\u001b[0m \u001b[0;34m=\u001b[0m \u001b[0mcv2\u001b[0m\u001b[0;34m.\u001b[0m\u001b[0mcvtColor\u001b[0m\u001b[0;34m(\u001b[0m\u001b[0mcitra\u001b[0m\u001b[0;34m,\u001b[0m \u001b[0mcv2\u001b[0m\u001b[0;34m.\u001b[0m\u001b[0mCOLOR_BGR2GRAY\u001b[0m\u001b[0;34m)\u001b[0m\u001b[0;34m\u001b[0m\u001b[0;34m\u001b[0m\u001b[0m\n\u001b[1;32m      5\u001b[0m \u001b[0mambang\u001b[0m\u001b[0;34m,\u001b[0m \u001b[0mcitraBiner\u001b[0m \u001b[0;34m=\u001b[0m \u001b[0mcv2\u001b[0m\u001b[0;34m.\u001b[0m\u001b[0mthreshold\u001b[0m\u001b[0;34m(\u001b[0m\u001b[0mabuAbu\u001b[0m\u001b[0;34m,\u001b[0m \u001b[0;36m105\u001b[0m\u001b[0;34m,\u001b[0m \u001b[0;36m255\u001b[0m\u001b[0;34m,\u001b[0m \u001b[0mcv2\u001b[0m\u001b[0;34m.\u001b[0m\u001b[0mTHRESH_BINARY_INV\u001b[0m \u001b[0;34m+\u001b[0m \u001b[0mcv2\u001b[0m\u001b[0;34m.\u001b[0m\u001b[0mTHRESH_OTSU\u001b[0m\u001b[0;34m)\u001b[0m\u001b[0;34m\u001b[0m\u001b[0;34m\u001b[0m\u001b[0m\n",
      "\u001b[0;31mNameError\u001b[0m: name 'citra' is not defined"
     ]
    }
   ],
   "source": [
    "citra = cv2.transpose(citra)\n",
    "citra = cv2.flip(citra, 1)\n",
    "#Konversi citra ke grayscale dan biner\n",
    "abuAbu = cv2.cvtColor(citra, cv2.COLOR_BGR2GRAY)\n",
    "ambang, citraBiner = cv2.threshold(abuAbu, 105, 255, cv2.THRESH_BINARY_INV + cv2.THRESH_OTSU)\n",
    "#Pelabelan pada objek dengan CCA\n",
    "connectivity = 8\n",
    "jumObjek, label = cv2.connectedComponents(citraBiner, connectivity)\n",
    "label = label + 1\n",
    "citraBiner = cv2.cvtColor(citraBiner,cv2.COLOR_GRAY2RGB)\n",
    "tinggi, lebar = citraBiner.shape[:2]\n",
    "#segmentasi objek berdasarkan label \n",
    "for indeks in range(1, jumObjek):\n",
    "    mask = np.zeros((tinggi, lebar), np.uint8)\n",
    "    mask[label == indeks + 1] = 1\n",
    "    objek = citraBiner * mask[:, :, np.newaxis]\n",
    "    objek = objek[..., : : -1]\n",
    "    objek = cv2.transpose(objek)\n",
    "    objek = cv2.flip(objek, 0)\n",
    "    objek = Image.fromarray(objek)\n",
    "    thresh = objek.point(lambda p: p < 25 and 255)\n",
    "    #proses memasukkan objek kedalam citra baru ukuran 32x32px \n",
    "    bbox1 = thresh.getbbox()\n",
    "    crop1 = thresh.crop(bbox1)\n",
    "    crop1n = ImageOps.invert(crop1)\n",
    "    bbox2  = crop1n.getbbox()\n",
    "    crop2  = crop1.crop(bbox2) \n",
    "    result = objek.crop(bbox1).crop(bbox2)\n",
    "    img_w, img_h = result.size\n",
    "    background = Image.new('RGB', (32, 32), (0, 0, 0, 0))\n",
    "    bg_w, bg_h = background.size\n",
    "    offset = ((bg_w - img_w) // 2, (bg_h - img_h) // 2)\n",
    "    background.paste(result, offset)\n",
    "    new = background"
   ]
  },
  {
   "cell_type": "code",
   "execution_count": 61,
   "metadata": {},
   "outputs": [
    {
     "data": {
      "text/plain": [
       "Text(0.5, 1.0, 'Image')"
      ]
     },
     "execution_count": 61,
     "metadata": {},
     "output_type": "execute_result"
    },
    {
     "data": {
      "image/png": "[encoded data removed]",
      "text/plain": [
       "<Figure size 432x288 with 1 Axes>"
      ]
     },
     "metadata": {},
     "output_type": "display_data"
    }
   ],
   "source": [
    "image = cv2.transpose(image)\n",
    "image = cv2.flip(image, 1)\n",
    "plt.imshow(image, cmap=\"gray\", vmin=0, vmax=255)\n",
    "plt.xticks([]), plt.yticks([])\n",
    "plt.title('Image')"
   ]
  },
  {
   "cell_type": "code",
   "execution_count": 97,
   "metadata": {},
   "outputs": [
    {
     "data": {
      "text/plain": [
       "Text(0.5, 1.0, 'Image')"
      ]
     },
     "execution_count": 97,
     "metadata": {},
     "output_type": "execute_result"
    },
    {
     "data": {
      "image/png": "[encoded data removed]",
      "text/plain": [
       "<Figure size 432x288 with 1 Axes>"
      ]
     },
     "metadata": {},
     "output_type": "display_data"
    }
   ],
   "source": [
    "gray = cv2.cvtColor(image, cv2.COLOR_BGR2GRAY) \n",
    "t, thresh = cv2.threshold(gray, 105, 255, cv2.THRESH_BINARY_INV, cv2.THRESH_OTSU)\n",
    "\n",
    "\n",
    "plt.subplot(242)\n",
    "plt.imshow(thresh, cmap=\"gray\", vmin=0, vmax=255)\n",
    "plt.xticks([]), plt.yticks([])\n",
    "plt.title('Image')"
   ]
  },
  {
   "cell_type": "code",
   "execution_count": 98,
   "metadata": {},
   "outputs": [
    {
     "data": {
      "text/plain": [
       "Text(0.5, 1.0, 'Penanda')"
      ]
     },
     "execution_count": 98,
     "metadata": {},
     "output_type": "execute_result"
    },
    {
     "data": {
      "image/png": "[encoded data removed]",
      "text/plain": [
       "<Figure size 432x288 with 1 Axes>"
      ]
     },
     "metadata": {},
     "output_type": "display_data"
    }
   ],
   "source": [
    "connectivity = 8 \n",
    "num_labels, label= cv2.connectedComponents(thresh, connectivity)\n",
    "label = label + 1\n",
    "\n",
    "thresh = cv2.cvtColor(thresh,cv2.COLOR_GRAY2RGB)\n",
    "# label = cv2.watershed(thresh, label)\n",
    "\n",
    "plt.subplot(243)\n",
    "plt.imshow(label, cmap=\"jet\")\n",
    "plt.xticks([]), plt.yticks([])\n",
    "plt.title('Penanda')\n"
   ]
  },
  {
   "cell_type": "code",
   "execution_count": 99,
   "metadata": {},
   "outputs": [
    {
     "data": {
      "image/png": "[encoded data removed]",
      "text/plain": [
       "<Figure size 432x288 with 3 Axes>"
      ]
     },
     "metadata": {},
     "output_type": "display_data"
    }
   ],
   "source": [
    "h, w = thresh.shape[:2]\n",
    "d = 0 #untuk penamaan\n",
    "for index in range(1, num_labels):\n",
    "    mask = np.zeros((h, w), np.uint8)\n",
    "    mask[label == index + 1] = 1\n",
    "    obj = thresh * mask[:, :, np.newaxis]\n",
    "    obj = obj[..., : : -1]\n",
    "    obj=cv2.transpose(obj)\n",
    "    obj=cv2.flip(obj, 0)\n",
    "#       tempat penyimpanan hasil segmentasi label\n",
    "#     filename = \"/Users/server/Documents/Data Teks Uji/file_%d.jpg\"%d\n",
    "#     cv2.imwrite(filename,obj)\n",
    "#     d+=1\n",
    "    plt.subplot(1, 10, index)\n",
    "    plt.imshow(obj)\n",
    "    plt.xticks([]), plt.yticks([])\n",
    "    plt.title(index)\n",
    "\n",
    "plt.show()"
   ]
  },
  {
   "cell_type": "code",
   "execution_count": 42,
   "metadata": {},
   "outputs": [
    {
     "data": {
      "text/plain": [
       "Text(0.5, 1.0, 'Thresh')"
      ]
     },
     "execution_count": 42,
     "metadata": {},
     "output_type": "execute_result"
    },
    {
     "data": {
      "image/png": "[encoded data removed]",
      "text/plain": [
       "<Figure size 432x288 with 1 Axes>"
      ]
     },
     "metadata": {},
     "output_type": "display_data"
    }
   ],
   "source": [
    "objek = cv2.imread('/Users/server/Documents/Data Segmentasi/Abu/file_39.jpg')\n",
    "objek = Image.fromarray(objek)#convert cv2 to PIL image\n",
    "thresh = objek.point(lambda p: p < 25 and 255)\n",
    "\n",
    "plt.subplot(244)\n",
    "plt.imshow(thresh, cmap=\"jet\")\n",
    "plt.xticks([]), plt.yticks([])\n",
    "plt.title('Thresh')"
   ]
  },
  {
   "cell_type": "code",
   "execution_count": 43,
   "metadata": {},
   "outputs": [
    {
     "data": {
      "text/plain": [
       "Text(0.5, 1.0, 'Cropped')"
      ]
     },
     "execution_count": 43,
     "metadata": {},
     "output_type": "execute_result"
    },
    {
     "data": {
      "image/png": "[encoded data removed]",
      "text/plain": [
       "<Figure size 432x288 with 1 Axes>"
      ]
     },
     "metadata": {},
     "output_type": "display_data"
    }
   ],
   "source": [
    "#mendapatkan bounding box dari thresh image\n",
    "bbox1 = thresh.getbbox()\n",
    "crop1 = thresh.crop(bbox1)\n",
    "# Invert dan crop lagi\n",
    "crop1n = ImageOps.invert(crop1)\n",
    "bbox2  = crop1n.getbbox()\n",
    "crop2  = crop1.crop(bbox2)\n",
    "\n",
    "plt.subplot(245)\n",
    "plt.imshow(crop2, cmap=\"jet\")\n",
    "plt.xticks([]), plt.yticks([])\n",
    "plt.title('Cropped')"
   ]
  },
  {
   "cell_type": "code",
   "execution_count": 44,
   "metadata": {},
   "outputs": [
    {
     "data": {
      "text/plain": [
       "Text(0.5, 1.0, 'Result')"
      ]
     },
     "execution_count": 44,
     "metadata": {},
     "output_type": "execute_result"
    },
    {
     "data": {
      "image/png": "[encoded data removed]",
      "text/plain": [
       "<Figure size 432x288 with 1 Axes>"
      ]
     },
     "metadata": {},
     "output_type": "display_data"
    }
   ],
   "source": [
    "#Crop objek awal sesuai bounding box yang telah dibuat \n",
    "result = objek.crop(bbox1).crop(bbox2)\n",
    "img_w, img_h = result.size #mendapatkan ukuran cropped object\n",
    "\n",
    "plt.subplot(246)\n",
    "plt.imshow(result, cmap=\"jet\")\n",
    "plt.xticks([]), plt.yticks([])\n",
    "plt.title('Result')"
   ]
  },
  {
   "cell_type": "code",
   "execution_count": 45,
   "metadata": {},
   "outputs": [
    {
     "data": {
      "text/plain": [
       "(10, 13)"
      ]
     },
     "execution_count": 45,
     "metadata": {},
     "output_type": "execute_result"
    }
   ],
   "source": [
    "img_w, img_h"
   ]
  },
  {
   "cell_type": "code",
   "execution_count": 46,
   "metadata": {},
   "outputs": [
    {
     "data": {
      "text/plain": [
       "Text(0.5, 1.0, 'Objek With Resized Background')"
      ]
     },
     "execution_count": 46,
     "metadata": {},
     "output_type": "execute_result"
    },
    {
     "data": {
      "image/png": "[encoded data removed]",
      "text/plain": [
       "<Figure size 432x288 with 1 Axes>"
      ]
     },
     "metadata": {},
     "output_type": "display_data"
    }
   ],
   "source": [
    "#Buat background hitam baru dengan ukuran 32x32\n",
    "background = Image.new('RGB', (32, 32), (0, 0, 0, 0))\n",
    "bg_w, bg_h = background.size #mendapatkan ukuran background\n",
    "#membuat margin agar objek berada ditengah background\n",
    "offset = ((bg_w - img_w) // 2, (bg_h - img_h) // 2)\n",
    "#menempatkan objek ke background sesuai margin\n",
    "background.paste(result, offset)\n",
    "new = background\n",
    "\n",
    "plt.subplot(247)\n",
    "plt.imshow(new, cmap=\"jet\")\n",
    "plt.xticks([]), plt.yticks([])\n",
    "plt.title('Objek With Resized Background')"
   ]
  },
  {
   "cell_type": "code",
   "execution_count": 47,
   "metadata": {},
   "outputs": [
    {
     "data": {
      "text/plain": [
       "Text(0.5, 1.0, 'Objek With Resized Background')"
      ]
     },
     "execution_count": 47,
     "metadata": {},
     "output_type": "execute_result"
    },
    {
     "data": {
      "image/png": "[encoded data removed]",
      "text/plain": [
       "<Figure size 432x288 with 1 Axes>"
      ]
     },
     "metadata": {},
     "output_type": "display_data"
    }
   ],
   "source": [
    "thresh = new.point(lambda p: p < 25 and 255)\n",
    "thresh = thresh.convert('L')\n",
    "plt.subplot(247)\n",
    "plt.imshow(thresh, cmap=\"gray\")\n",
    "plt.xticks([]), plt.yticks([])\n",
    "plt.title('Objek With Resized Background')"
   ]
  },
  {
   "cell_type": "code",
   "execution_count": 24,
   "metadata": {},
   "outputs": [],
   "source": [
    "#SEGMENTASI KARAKTER\n",
    "\n",
    "d = 0\n",
    "# for filename in glob.glob(\"/Users/server/Documents/Data Teks/Bagaimana/*.jpg\"):\n",
    "citra = cv2.imread(\"/Users/server/Documents/Data Teks/Ibu/T86_F1_D1.jpg\")\n",
    "# if citra is None:\n",
    "#     print(\"Citra Gaada\")\n",
    "#     exit()\n",
    "citra = cv2.transpose(citra)\n",
    "citra = cv2.flip(citra, 1)\n",
    "#Konversi citra ke grayscale dan biner\n",
    "abuAbu = cv2.cvtColor(citra, cv2.COLOR_BGR2GRAY)\n",
    "ambang, citraBiner = cv2.threshold(abuAbu, 105, 255, cv2.THRESH_BINARY_INV + cv2.THRESH_OTSU)\n",
    "#Pelabelan pada objek latarDepan dengan CCA\n",
    "connectivity = 8 \n",
    "jumObjek, label = cv2.connectedComponents(citraBiner, connectivity)\n",
    "label = label + 1\n",
    "citraBiner = cv2.cvtColor(citraBiner,cv2.COLOR_GRAY2RGB)\n",
    "tinggi, lebar = citraBiner.shape[:2]\n",
    "for indeks in range(1, jumObjek):\n",
    "#         d = 0\n",
    "    mask = np.zeros((tinggi, lebar), np.uint8)\n",
    "    mask[label == indeks + 1] = 1\n",
    "    objek = citraBiner * mask[:, :, np.newaxis]\n",
    "    objek = objek[..., : : -1]\n",
    "    objek=cv2.transpose(objek)\n",
    "    objek=cv2.flip(objek, 0)\n",
    "    #SIMPAN SETIAP HASIL SEGMENTASI\n",
    "    filename = \"/Users/server/Documents/Data Teks Uji/file_%d.jpg\"%d\n",
    "    cv2.imwrite(filename,objek)\n",
    "    d+=1\n",
    "d+=1"
   ]
  },
  {
   "cell_type": "code",
   "execution_count": null,
   "metadata": {},
   "outputs": [],
   "source": []
  }
 ],
 "metadata": {
  "kernelspec": {
   "display_name": "Python 3",
   "language": "python",
   "name": "python3"
  },
  "language_info": {
   "codemirror_mode": {
    "name": "ipython",
    "version": 3
   },
   "file_extension": ".py",
   "mimetype": "text/x-python",
   "name": "python",
   "nbconvert_exporter": "python",
   "pygments_lexer": "ipython3",
   "version": "3.7.3"
  }
 },
 "nbformat": 4,
 "nbformat_minor": 4
}
