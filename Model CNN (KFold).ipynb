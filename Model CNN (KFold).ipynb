{
 "cells": [
  {
   "cell_type": "code",
   "execution_count": 1,
   "metadata": {},
   "outputs": [
    {
     "name": "stderr",
     "output_type": "stream",
     "text": [
      "Using TensorFlow backend.\n",
      "//anaconda3/lib/python3.7/site-packages/tensorflow/python/framework/dtypes.py:516: FutureWarning: Passing (type, 1) or '1type' as a synonym of type is deprecated; in a future version of numpy, it will be understood as (type, (1,)) / '(1,)type'.\n",
      "  _np_qint8 = np.dtype([(\"qint8\", np.int8, 1)])\n",
      "//anaconda3/lib/python3.7/site-packages/tensorflow/python/framework/dtypes.py:517: FutureWarning: Passing (type, 1) or '1type' as a synonym of type is deprecated; in a future version of numpy, it will be understood as (type, (1,)) / '(1,)type'.\n",
      "  _np_quint8 = np.dtype([(\"quint8\", np.uint8, 1)])\n",
      "//anaconda3/lib/python3.7/site-packages/tensorflow/python/framework/dtypes.py:518: FutureWarning: Passing (type, 1) or '1type' as a synonym of type is deprecated; in a future version of numpy, it will be understood as (type, (1,)) / '(1,)type'.\n",
      "  _np_qint16 = np.dtype([(\"qint16\", np.int16, 1)])\n",
      "//anaconda3/lib/python3.7/site-packages/tensorflow/python/framework/dtypes.py:519: FutureWarning: Passing (type, 1) or '1type' as a synonym of type is deprecated; in a future version of numpy, it will be understood as (type, (1,)) / '(1,)type'.\n",
      "  _np_quint16 = np.dtype([(\"quint16\", np.uint16, 1)])\n",
      "//anaconda3/lib/python3.7/site-packages/tensorflow/python/framework/dtypes.py:520: FutureWarning: Passing (type, 1) or '1type' as a synonym of type is deprecated; in a future version of numpy, it will be understood as (type, (1,)) / '(1,)type'.\n",
      "  _np_qint32 = np.dtype([(\"qint32\", np.int32, 1)])\n",
      "//anaconda3/lib/python3.7/site-packages/tensorflow/python/framework/dtypes.py:525: FutureWarning: Passing (type, 1) or '1type' as a synonym of type is deprecated; in a future version of numpy, it will be understood as (type, (1,)) / '(1,)type'.\n",
      "  np_resource = np.dtype([(\"resource\", np.ubyte, 1)])\n",
      "//anaconda3/lib/python3.7/site-packages/tensorboard/compat/tensorflow_stub/dtypes.py:541: FutureWarning: Passing (type, 1) or '1type' as a synonym of type is deprecated; in a future version of numpy, it will be understood as (type, (1,)) / '(1,)type'.\n",
      "  _np_qint8 = np.dtype([(\"qint8\", np.int8, 1)])\n",
      "//anaconda3/lib/python3.7/site-packages/tensorboard/compat/tensorflow_stub/dtypes.py:542: FutureWarning: Passing (type, 1) or '1type' as a synonym of type is deprecated; in a future version of numpy, it will be understood as (type, (1,)) / '(1,)type'.\n",
      "  _np_quint8 = np.dtype([(\"quint8\", np.uint8, 1)])\n",
      "//anaconda3/lib/python3.7/site-packages/tensorboard/compat/tensorflow_stub/dtypes.py:543: FutureWarning: Passing (type, 1) or '1type' as a synonym of type is deprecated; in a future version of numpy, it will be understood as (type, (1,)) / '(1,)type'.\n",
      "  _np_qint16 = np.dtype([(\"qint16\", np.int16, 1)])\n",
      "//anaconda3/lib/python3.7/site-packages/tensorboard/compat/tensorflow_stub/dtypes.py:544: FutureWarning: Passing (type, 1) or '1type' as a synonym of type is deprecated; in a future version of numpy, it will be understood as (type, (1,)) / '(1,)type'.\n",
      "  _np_quint16 = np.dtype([(\"quint16\", np.uint16, 1)])\n",
      "//anaconda3/lib/python3.7/site-packages/tensorboard/compat/tensorflow_stub/dtypes.py:545: FutureWarning: Passing (type, 1) or '1type' as a synonym of type is deprecated; in a future version of numpy, it will be understood as (type, (1,)) / '(1,)type'.\n",
      "  _np_qint32 = np.dtype([(\"qint32\", np.int32, 1)])\n",
      "//anaconda3/lib/python3.7/site-packages/tensorboard/compat/tensorflow_stub/dtypes.py:550: FutureWarning: Passing (type, 1) or '1type' as a synonym of type is deprecated; in a future version of numpy, it will be understood as (type, (1,)) / '(1,)type'.\n",
      "  np_resource = np.dtype([(\"resource\", np.ubyte, 1)])\n"
     ]
    }
   ],
   "source": [
    "import numpy as np\n",
    "import pandas as pd\n",
    "import keras\n",
    "import matplotlib.pyplot as plt\n",
    "from PIL import Image\n",
    "from keras.utils import to_categorical\n",
    "from keras.models import Sequential\n",
    "from keras.layers import Dense, Dropout, Flatten, Conv2D, MaxPooling2D\n",
    "from keras.optimizers import Adam\n",
    "from keras.callbacks import ModelCheckpoint, EarlyStopping\n",
    "import time\n",
    "%matplotlib inline"
   ]
  },
  {
   "cell_type": "code",
   "execution_count": 2,
   "metadata": {},
   "outputs": [],
   "source": [
    "#Import data train dan data test\n",
    "data_train = pd.read_csv('data_train_fix.csv')\n",
    "data_test = pd.read_csv('data_test_fix.csv')\n",
    "data_train = data_train.sample(frac=1) #Acak data"
   ]
  },
  {
   "cell_type": "code",
   "execution_count": 3,
   "metadata": {},
   "outputs": [],
   "source": [
    "#Menentukan ukuran citra dan input_shape\n",
    "img_rows, img_cols = 32, 32\n",
    "input_shape = (img_rows, img_cols, 1)"
   ]
  },
  {
   "cell_type": "code",
   "execution_count": 4,
   "metadata": {},
   "outputs": [],
   "source": [
    "#Data train\n",
    "X_train = np.array(data_train.iloc[:, 1:])\n",
    "y_train = to_categorical(np.array(data_train.iloc[:, 0]))"
   ]
  },
  {
   "cell_type": "code",
   "execution_count": 5,
   "metadata": {},
   "outputs": [
    {
     "data": {
      "text/html": [
       "<div>\n",
       "<style scoped>\n",
       "    .dataframe tbody tr th:only-of-type {\n",
       "        vertical-align: middle;\n",
       "    }\n",
       "\n",
       "    .dataframe tbody tr th {\n",
       "        vertical-align: top;\n",
       "    }\n",
       "\n",
       "    .dataframe thead th {\n",
       "        text-align: right;\n",
       "    }\n",
       "</style>\n",
       "<table border=\"1\" class=\"dataframe\">\n",
       "  <thead>\n",
       "    <tr style=\"text-align: right;\">\n",
       "      <th></th>\n",
       "      <th>label</th>\n",
       "      <th>pixel1</th>\n",
       "      <th>pixel2</th>\n",
       "      <th>pixel3</th>\n",
       "      <th>pixel4</th>\n",
       "      <th>pixel5</th>\n",
       "      <th>pixel6</th>\n",
       "      <th>pixel7</th>\n",
       "      <th>pixel8</th>\n",
       "      <th>pixel9</th>\n",
       "      <th>...</th>\n",
       "      <th>pixel1015</th>\n",
       "      <th>pixel1016</th>\n",
       "      <th>pixel1017</th>\n",
       "      <th>pixel1018</th>\n",
       "      <th>pixel1019</th>\n",
       "      <th>pixel1020</th>\n",
       "      <th>pixel1021</th>\n",
       "      <th>pixel1022</th>\n",
       "      <th>pixel1023</th>\n",
       "      <th>pixel1024</th>\n",
       "    </tr>\n",
       "  </thead>\n",
       "  <tbody>\n",
       "    <tr>\n",
       "      <th>122</th>\n",
       "      <td>3</td>\n",
       "      <td>255</td>\n",
       "      <td>255</td>\n",
       "      <td>255</td>\n",
       "      <td>255</td>\n",
       "      <td>255</td>\n",
       "      <td>255</td>\n",
       "      <td>255</td>\n",
       "      <td>255</td>\n",
       "      <td>255</td>\n",
       "      <td>...</td>\n",
       "      <td>255</td>\n",
       "      <td>255</td>\n",
       "      <td>255</td>\n",
       "      <td>255</td>\n",
       "      <td>255</td>\n",
       "      <td>255</td>\n",
       "      <td>255</td>\n",
       "      <td>255</td>\n",
       "      <td>255</td>\n",
       "      <td>255</td>\n",
       "    </tr>\n",
       "    <tr>\n",
       "      <th>752</th>\n",
       "      <td>18</td>\n",
       "      <td>255</td>\n",
       "      <td>255</td>\n",
       "      <td>255</td>\n",
       "      <td>255</td>\n",
       "      <td>255</td>\n",
       "      <td>255</td>\n",
       "      <td>255</td>\n",
       "      <td>255</td>\n",
       "      <td>255</td>\n",
       "      <td>...</td>\n",
       "      <td>255</td>\n",
       "      <td>255</td>\n",
       "      <td>255</td>\n",
       "      <td>255</td>\n",
       "      <td>255</td>\n",
       "      <td>255</td>\n",
       "      <td>255</td>\n",
       "      <td>255</td>\n",
       "      <td>255</td>\n",
       "      <td>255</td>\n",
       "    </tr>\n",
       "    <tr>\n",
       "      <th>933</th>\n",
       "      <td>23</td>\n",
       "      <td>255</td>\n",
       "      <td>255</td>\n",
       "      <td>255</td>\n",
       "      <td>255</td>\n",
       "      <td>255</td>\n",
       "      <td>255</td>\n",
       "      <td>255</td>\n",
       "      <td>255</td>\n",
       "      <td>255</td>\n",
       "      <td>...</td>\n",
       "      <td>255</td>\n",
       "      <td>255</td>\n",
       "      <td>255</td>\n",
       "      <td>255</td>\n",
       "      <td>255</td>\n",
       "      <td>255</td>\n",
       "      <td>255</td>\n",
       "      <td>255</td>\n",
       "      <td>255</td>\n",
       "      <td>255</td>\n",
       "    </tr>\n",
       "    <tr>\n",
       "      <th>234</th>\n",
       "      <td>5</td>\n",
       "      <td>255</td>\n",
       "      <td>255</td>\n",
       "      <td>255</td>\n",
       "      <td>255</td>\n",
       "      <td>255</td>\n",
       "      <td>255</td>\n",
       "      <td>255</td>\n",
       "      <td>255</td>\n",
       "      <td>255</td>\n",
       "      <td>...</td>\n",
       "      <td>255</td>\n",
       "      <td>255</td>\n",
       "      <td>255</td>\n",
       "      <td>255</td>\n",
       "      <td>255</td>\n",
       "      <td>255</td>\n",
       "      <td>255</td>\n",
       "      <td>255</td>\n",
       "      <td>255</td>\n",
       "      <td>255</td>\n",
       "    </tr>\n",
       "    <tr>\n",
       "      <th>747</th>\n",
       "      <td>18</td>\n",
       "      <td>255</td>\n",
       "      <td>255</td>\n",
       "      <td>255</td>\n",
       "      <td>255</td>\n",
       "      <td>255</td>\n",
       "      <td>255</td>\n",
       "      <td>255</td>\n",
       "      <td>255</td>\n",
       "      <td>255</td>\n",
       "      <td>...</td>\n",
       "      <td>255</td>\n",
       "      <td>255</td>\n",
       "      <td>255</td>\n",
       "      <td>255</td>\n",
       "      <td>255</td>\n",
       "      <td>255</td>\n",
       "      <td>255</td>\n",
       "      <td>255</td>\n",
       "      <td>255</td>\n",
       "      <td>255</td>\n",
       "    </tr>\n",
       "  </tbody>\n",
       "</table>\n",
       "<p>5 rows × 1025 columns</p>\n",
       "</div>"
      ],
      "text/plain": [
       "     label  pixel1  pixel2  pixel3  pixel4  pixel5  pixel6  pixel7  pixel8  \\\n",
       "122      3     255     255     255     255     255     255     255     255   \n",
       "752     18     255     255     255     255     255     255     255     255   \n",
       "933     23     255     255     255     255     255     255     255     255   \n",
       "234      5     255     255     255     255     255     255     255     255   \n",
       "747     18     255     255     255     255     255     255     255     255   \n",
       "\n",
       "     pixel9  ...  pixel1015  pixel1016  pixel1017  pixel1018  pixel1019  \\\n",
       "122     255  ...        255        255        255        255        255   \n",
       "752     255  ...        255        255        255        255        255   \n",
       "933     255  ...        255        255        255        255        255   \n",
       "234     255  ...        255        255        255        255        255   \n",
       "747     255  ...        255        255        255        255        255   \n",
       "\n",
       "     pixel1020  pixel1021  pixel1022  pixel1023  pixel1024  \n",
       "122        255        255        255        255        255  \n",
       "752        255        255        255        255        255  \n",
       "933        255        255        255        255        255  \n",
       "234        255        255        255        255        255  \n",
       "747        255        255        255        255        255  \n",
       "\n",
       "[5 rows x 1025 columns]"
      ]
     },
     "execution_count": 5,
     "metadata": {},
     "output_type": "execute_result"
    }
   ],
   "source": [
    "data_train.tail()"
   ]
  },
  {
   "cell_type": "code",
   "execution_count": 6,
   "metadata": {},
   "outputs": [],
   "source": [
    "#Data test\n",
    "y_test_label = data_test[['label']]\n",
    "X_test = np.array(data_test.iloc[:, 1:])\n",
    "y_test = to_categorical(np.array(data_test.iloc[:, 0]))"
   ]
  },
  {
   "cell_type": "code",
   "execution_count": 7,
   "metadata": {},
   "outputs": [
    {
     "data": {
      "text/plain": [
       "(1040, 1024)"
      ]
     },
     "execution_count": 7,
     "metadata": {},
     "output_type": "execute_result"
    }
   ],
   "source": [
    "X_train.shape"
   ]
  },
  {
   "cell_type": "code",
   "execution_count": 8,
   "metadata": {},
   "outputs": [],
   "source": [
    "#Praproses data sebelum di train\n",
    "X_train = X_train.reshape(X_train.shape[0], img_rows, img_cols, 1)\n",
    "X_test = X_test.reshape(X_test.shape[0], img_rows, img_cols, 1)\n",
    "X_train = X_train.astype('float32')\n",
    "X_test = X_test.astype('float32')\n",
    "X_train /= 255\n",
    "X_test /= 255"
   ]
  },
  {
   "cell_type": "code",
   "execution_count": 9,
   "metadata": {},
   "outputs": [
    {
     "data": {
      "text/plain": [
       "(1040, 32, 32, 1)"
      ]
     },
     "execution_count": 9,
     "metadata": {},
     "output_type": "execute_result"
    }
   ],
   "source": [
    "X_train.shape"
   ]
  },
  {
   "cell_type": "code",
   "execution_count": 28,
   "metadata": {},
   "outputs": [],
   "source": [
    "#Menentukan jumlah kelas dan hyperparameter\n",
    "num_classes = 26\n",
    "adam = Adam(lr=0.001)\n",
    "epochs=20\n",
    "batch_size=50\n",
    "# IMAGE_SIZE = (32,32,1)"
   ]
  },
  {
   "cell_type": "code",
   "execution_count": 29,
   "metadata": {},
   "outputs": [],
   "source": [
    "#Proses pembuatan model\n",
    "model = Sequential()\n",
    "model.add(Conv2D(32, kernel_size=(3, 3),\n",
    "                 activation='relu', padding='same',\n",
    "                 kernel_initializer='he_normal',\n",
    "                 input_shape=input_shape))\n",
    "model.add(MaxPooling2D((2, 2)))\n",
    "model.add(Dropout(0.25))\n",
    "model.add(Conv2D(64, (3, 3), activation='relu'))\n",
    "model.add(MaxPooling2D(pool_size=(2, 2)))\n",
    "model.add(Dropout(0.25))\n",
    "model.add(Conv2D(128, (3, 3), activation='relu'))\n",
    "model.add(Dropout(0.4))\n",
    "model.add(Flatten())\n",
    "model.add(Dense(128, activation='relu'))\n",
    "model.add(Dropout(0.3))\n",
    "model.add(Dense(num_classes, activation='softmax'))\n",
    "\n",
    "model.compile(loss='categorical_crossentropy', optimizer=adam, \n",
    "              metrics=['accuracy'])"
   ]
  },
  {
   "cell_type": "code",
   "execution_count": 30,
   "metadata": {
    "scrolled": false
   },
   "outputs": [
    {
     "name": "stdout",
     "output_type": "stream",
     "text": [
      "_________________________________________________________________\n",
      "Layer (type)                 Output Shape              Param #   \n",
      "=================================================================\n",
      "conv2d_10 (Conv2D)           (None, 32, 32, 32)        320       \n",
      "_________________________________________________________________\n",
      "max_pooling2d_7 (MaxPooling2 (None, 16, 16, 32)        0         \n",
      "_________________________________________________________________\n",
      "dropout_13 (Dropout)         (None, 16, 16, 32)        0         \n",
      "_________________________________________________________________\n",
      "conv2d_11 (Conv2D)           (None, 14, 14, 64)        18496     \n",
      "_________________________________________________________________\n",
      "max_pooling2d_8 (MaxPooling2 (None, 7, 7, 64)          0         \n",
      "_________________________________________________________________\n",
      "dropout_14 (Dropout)         (None, 7, 7, 64)          0         \n",
      "_________________________________________________________________\n",
      "conv2d_12 (Conv2D)           (None, 5, 5, 128)         73856     \n",
      "_________________________________________________________________\n",
      "dropout_15 (Dropout)         (None, 5, 5, 128)         0         \n",
      "_________________________________________________________________\n",
      "flatten_4 (Flatten)          (None, 3200)              0         \n",
      "_________________________________________________________________\n",
      "dense_7 (Dense)              (None, 128)               409728    \n",
      "_________________________________________________________________\n",
      "dropout_16 (Dropout)         (None, 128)               0         \n",
      "_________________________________________________________________\n",
      "dense_8 (Dense)              (None, 26)                3354      \n",
      "=================================================================\n",
      "Total params: 505,754\n",
      "Trainable params: 505,754\n",
      "Non-trainable params: 0\n",
      "_________________________________________________________________\n"
     ]
    }
   ],
   "source": [
    "model.summary()"
   ]
  },
  {
   "cell_type": "code",
   "execution_count": 34,
   "metadata": {},
   "outputs": [
    {
     "name": "stdout",
     "output_type": "stream",
     "text": [
      "Training on Fold  1\n",
      "Train on 936 samples, validate on 104 samples\n",
      "Epoch 1/20\n",
      "100/936 [==>...........................] - ETA: 1s - loss: 0.0460 - acc: 0.9900"
     ]
    },
    {
     "name": "stderr",
     "output_type": "stream",
     "text": [
      "//anaconda3/lib/python3.7/site-packages/sklearn/model_selection/_split.py:296: FutureWarning: Setting a random_state has no effect since shuffle is False. This will raise an error in 0.24. You should leave random_state to its default (None), or set shuffle=True.\n",
      "  FutureWarning\n"
     ]
    },
    {
     "name": "stdout",
     "output_type": "stream",
     "text": [
      "936/936 [==============================] - 1s 1ms/step - loss: 0.0597 - acc: 0.9733 - val_loss: 0.0308 - val_acc: 0.9808\n",
      "\n",
      "Epoch 00001: val_loss improved from inf to 0.03083, saving model to foldmodel13.h5\n",
      "Epoch 2/20\n",
      "936/936 [==============================] - 1s 1ms/step - loss: 0.0512 - acc: 0.9776 - val_loss: 0.0290 - val_acc: 0.9904\n",
      "\n",
      "Epoch 00002: val_loss improved from 0.03083 to 0.02896, saving model to foldmodel13.h5\n",
      "Epoch 3/20\n",
      "936/936 [==============================] - 1s 1ms/step - loss: 0.0663 - acc: 0.9701 - val_loss: 0.0254 - val_acc: 1.0000\n",
      "\n",
      "Epoch 00003: val_loss improved from 0.02896 to 0.02536, saving model to foldmodel13.h5\n",
      "Epoch 4/20\n",
      "936/936 [==============================] - 1s 1ms/step - loss: 0.0461 - acc: 0.9882 - val_loss: 0.0275 - val_acc: 0.9904\n",
      "\n",
      "Epoch 00004: val_loss did not improve from 0.02536\n",
      "Epoch 00004: early stopping\n",
      "Training on Fold  2\n",
      "Train on 936 samples, validate on 104 samples\n",
      "Epoch 1/20\n",
      "936/936 [==============================] - 1s 1ms/step - loss: 0.0574 - acc: 0.9744 - val_loss: 0.0169 - val_acc: 0.9904\n",
      "\n",
      "Epoch 00001: val_loss improved from 0.02536 to 0.01692, saving model to foldmodel13.h5\n",
      "Epoch 2/20\n",
      "936/936 [==============================] - 1s 1ms/step - loss: 0.0437 - acc: 0.9840 - val_loss: 0.0130 - val_acc: 1.0000\n",
      "\n",
      "Epoch 00002: val_loss improved from 0.01692 to 0.01301, saving model to foldmodel13.h5\n",
      "Epoch 3/20\n",
      "936/936 [==============================] - 1s 1ms/step - loss: 0.0641 - acc: 0.9808 - val_loss: 0.0117 - val_acc: 1.0000\n",
      "\n",
      "Epoch 00003: val_loss improved from 0.01301 to 0.01171, saving model to foldmodel13.h5\n",
      "Epoch 4/20\n",
      "936/936 [==============================] - 1s 1ms/step - loss: 0.0637 - acc: 0.9754 - val_loss: 0.0174 - val_acc: 1.0000\n",
      "\n",
      "Epoch 00004: val_loss did not improve from 0.01171\n",
      "Epoch 00004: early stopping\n",
      "Training on Fold  3\n",
      "Train on 936 samples, validate on 104 samples\n",
      "Epoch 1/20\n",
      "936/936 [==============================] - 1s 1ms/step - loss: 0.0554 - acc: 0.9818 - val_loss: 0.0057 - val_acc: 1.0000\n",
      "\n",
      "Epoch 00001: val_loss improved from 0.01171 to 0.00574, saving model to foldmodel13.h5\n",
      "Epoch 2/20\n",
      "936/936 [==============================] - 1s 1ms/step - loss: 0.0732 - acc: 0.9712 - val_loss: 0.0072 - val_acc: 0.9904\n",
      "\n",
      "Epoch 00002: val_loss did not improve from 0.00574\n",
      "Epoch 00002: early stopping\n",
      "Training on Fold  4\n",
      "Train on 936 samples, validate on 104 samples\n",
      "Epoch 1/20\n",
      "936/936 [==============================] - 1s 1ms/step - loss: 0.0479 - acc: 0.9797 - val_loss: 0.0267 - val_acc: 0.9808\n",
      "\n",
      "Epoch 00001: val_loss did not improve from 0.00574\n",
      "Epoch 2/20\n",
      "936/936 [==============================] - 1s 1ms/step - loss: 0.0673 - acc: 0.9712 - val_loss: 0.0254 - val_acc: 0.9904\n",
      "\n",
      "Epoch 00002: val_loss did not improve from 0.00574\n",
      "Epoch 3/20\n",
      "936/936 [==============================] - 1s 1ms/step - loss: 0.0628 - acc: 0.9733 - val_loss: 0.0292 - val_acc: 0.9808\n",
      "\n",
      "Epoch 00003: val_loss did not improve from 0.00574\n",
      "Epoch 00003: early stopping\n",
      "Training on Fold  5\n",
      "Train on 936 samples, validate on 104 samples\n",
      "Epoch 1/20\n",
      "936/936 [==============================] - 1s 1ms/step - loss: 0.0501 - acc: 0.9786 - val_loss: 0.0213 - val_acc: 0.9904\n",
      "\n",
      "Epoch 00001: val_loss did not improve from 0.00574\n",
      "Epoch 2/20\n",
      "936/936 [==============================] - 1s 1ms/step - loss: 0.0487 - acc: 0.9744 - val_loss: 0.0230 - val_acc: 0.9808\n",
      "\n",
      "Epoch 00002: val_loss did not improve from 0.00574\n",
      "Epoch 00002: early stopping\n",
      "Training on Fold  6\n",
      "Train on 936 samples, validate on 104 samples\n",
      "Epoch 1/20\n",
      "936/936 [==============================] - 1s 1ms/step - loss: 0.0621 - acc: 0.9776 - val_loss: 0.0040 - val_acc: 1.0000\n",
      "\n",
      "Epoch 00001: val_loss improved from 0.00574 to 0.00398, saving model to foldmodel13.h5\n",
      "Epoch 2/20\n",
      "936/936 [==============================] - 1s 1ms/step - loss: 0.0807 - acc: 0.9690 - val_loss: 0.0048 - val_acc: 1.0000\n",
      "\n",
      "Epoch 00002: val_loss did not improve from 0.00398\n",
      "Epoch 00002: early stopping\n",
      "Training on Fold  7\n",
      "Train on 936 samples, validate on 104 samples\n",
      "Epoch 1/20\n",
      "936/936 [==============================] - 1s 1ms/step - loss: 0.0473 - acc: 0.9818 - val_loss: 0.0298 - val_acc: 0.9904\n",
      "\n",
      "Epoch 00001: val_loss did not improve from 0.00398\n",
      "Epoch 2/20\n",
      "936/936 [==============================] - 1s 1ms/step - loss: 0.0465 - acc: 0.9818 - val_loss: 0.0340 - val_acc: 0.9904\n",
      "\n",
      "Epoch 00002: val_loss did not improve from 0.00398\n",
      "Epoch 00002: early stopping\n",
      "Training on Fold  8\n",
      "Train on 936 samples, validate on 104 samples\n",
      "Epoch 1/20\n",
      "936/936 [==============================] - 1s 1ms/step - loss: 0.0470 - acc: 0.9754 - val_loss: 0.0249 - val_acc: 0.9808\n",
      "\n",
      "Epoch 00001: val_loss did not improve from 0.00398\n",
      "Epoch 2/20\n",
      "936/936 [==============================] - 1s 1ms/step - loss: 0.0398 - acc: 0.9829 - val_loss: 0.0157 - val_acc: 1.0000\n",
      "\n",
      "Epoch 00002: val_loss did not improve from 0.00398\n",
      "Epoch 3/20\n",
      "936/936 [==============================] - 1s 1ms/step - loss: 0.0563 - acc: 0.9786 - val_loss: 0.0210 - val_acc: 1.0000\n",
      "\n",
      "Epoch 00003: val_loss did not improve from 0.00398\n",
      "Epoch 00003: early stopping\n",
      "Training on Fold  9\n",
      "Train on 936 samples, validate on 104 samples\n",
      "Epoch 1/20\n",
      "936/936 [==============================] - 1s 1ms/step - loss: 0.0533 - acc: 0.9765 - val_loss: 0.0222 - val_acc: 0.9904\n",
      "\n",
      "Epoch 00001: val_loss did not improve from 0.00398\n",
      "Epoch 2/20\n",
      "936/936 [==============================] - 1s 1ms/step - loss: 0.0425 - acc: 0.9850 - val_loss: 0.0263 - val_acc: 0.9808\n",
      "\n",
      "Epoch 00002: val_loss did not improve from 0.00398\n",
      "Epoch 00002: early stopping\n",
      "Training on Fold  10\n",
      "Train on 936 samples, validate on 104 samples\n",
      "Epoch 1/20\n",
      "936/936 [==============================] - 1s 1ms/step - loss: 0.0622 - acc: 0.9765 - val_loss: 0.0045 - val_acc: 1.0000\n",
      "\n",
      "Epoch 00001: val_loss did not improve from 0.00398\n",
      "Epoch 2/20\n",
      "936/936 [==============================] - 1s 1ms/step - loss: 0.0460 - acc: 0.9840 - val_loss: 0.0091 - val_acc: 0.9904\n",
      "\n",
      "Epoch 00002: val_loss did not improve from 0.00398\n",
      "Epoch 00002: early stopping\n"
     ]
    }
   ],
   "source": [
    "#Proses pelatihan model dengan metode K-Fold Cross Validation\n",
    "from sklearn.model_selection import KFold\n",
    "pat = 1 \n",
    "k_folds=10\n",
    "early_stopping = EarlyStopping(monitor='val_loss', patience=pat, verbose=1)\n",
    "model_checkpoint = ModelCheckpoint('foldmodel.h5', monitor='val_loss', verbose=1, save_best_only=True, mode='auto')\n",
    "\n",
    "kf = KFold(k_folds,random_state=42)\n",
    "model_history = [] \n",
    "i = 0\n",
    "start = time.time()\n",
    "for train_index, test_index in kf.split(X_train):\n",
    "    \n",
    "    print(\"Training on Fold \", i+1)\n",
    "    X_tr, X_val = X_train[train_index], X_train[test_index]\n",
    "    y_tr, y_val = y_train[train_index], y_train[test_index]\n",
    "    \n",
    "    model_history.append(model.fit(X_tr, y_tr,\n",
    "                                  batch_size=batch_size,\n",
    "                                  epochs=epochs,\n",
    "                                  callbacks=[early_stopping, model_checkpoint],\n",
    "                                  verbose=1, validation_data=(X_val, y_val)))\n",
    "    i+=1\n",
    "    \n",
    "end = time.time()\n",
    "durasi = end-start"
   ]
  },
  {
   "cell_type": "code",
   "execution_count": 35,
   "metadata": {},
   "outputs": [
    {
     "name": "stdout",
     "output_type": "stream",
     "text": [
      "260/260 [==============================] - 0s 348us/step\n"
     ]
    }
   ],
   "source": [
    "#Evaluasi model terhadap data test\n",
    "score = model.evaluate(X_test, y_test)"
   ]
  },
  {
   "cell_type": "code",
   "execution_count": 36,
   "metadata": {},
   "outputs": [
    {
     "name": "stdout",
     "output_type": "stream",
     "text": [
      "Waktu: 30.8068950176239 detik\n"
     ]
    }
   ],
   "source": [
    "#Menghitung waktu pelatihan model\n",
    "if durasi<60:\n",
    "    print(\"Waktu:\",durasi,\"detik\")\n",
    "else: \n",
    "    durasi = durasi/60\n",
    "    print(\"Waktu:\",durasi,\"menit\")"
   ]
  },
  {
   "cell_type": "code",
   "execution_count": null,
   "metadata": {},
   "outputs": [],
   "source": [
    "# model.save('foldmodel12.h5')\n",
    "# model.save_weights('foldmodelweights12.h5')"
   ]
  },
  {
   "cell_type": "markdown",
   "metadata": {},
   "source": [
    "# -----------------------BATAS------------------------------BATAS-----------------"
   ]
  },
  {
   "cell_type": "code",
   "execution_count": 23,
   "metadata": {},
   "outputs": [
    {
     "name": "stdout",
     "output_type": "stream",
     "text": [
      "[0.34577827327526534, 0.053989954077853605, 0.07098105506828198, 0.03489536441002901, 0.03145686203900438, 0.01603056672656049, 0.03184388965522745, 0.004867129294815151, 0.04081745338268005, 0.038003983441740274]\n",
      "Test loss: 0.025923369624293768\n",
      "Test accuracy: 0.9884615384615385\n"
     ]
    }
   ],
   "source": [
    "acc = []\n",
    "loss = []\n",
    "val_acc = []\n",
    "val_loss = []\n",
    "for i in range(0,10):\n",
    "    x = model_history[i].history['val_acc']\n",
    "    x = np.max(x)\n",
    "    val_acc.append(x)\n",
    "        \n",
    "for i in range(0,10):\n",
    "    x = model_history[i].history['acc']\n",
    "    x = np.max(x)\n",
    "    acc.append(x)\n",
    "        \n",
    "for i in range(0,10):\n",
    "    x = model_history[i].history['loss']\n",
    "    x = np.min(x)\n",
    "    loss.append(x)\n",
    "        \n",
    "for i in range(0,10):\n",
    "    x = model_history[i].history['val_loss']\n",
    "    x = np.min(x)\n",
    "    val_loss.append(x)\n",
    "    \n",
    "# print(acc)\n",
    "# print(loss)\n",
    "# print(val_acc)\n",
    "print(val_loss)\n",
    "print('Test loss:', score[0])\n",
    "print('Test accuracy:', score[1])"
   ]
  },
  {
   "cell_type": "code",
   "execution_count": 24,
   "metadata": {},
   "outputs": [
    {
     "name": "stdout",
     "output_type": "stream",
     "text": [
      "0.967948718330799\n",
      "0.08082386156002808\n",
      "1.0\n",
      "0.004867129294815151\n",
      "0.9690170982199856\n",
      "0.0868595396566531\n",
      "0.9903846245545608\n",
      "0.04081745338268005\n",
      "0.9711538498472964\n",
      "0.08547582980404553\n",
      "0.9711538450076029\n",
      "0.038003983441740274\n"
     ]
    }
   ],
   "source": [
    "print(np.max(model_history[7].history['acc']))\n",
    "print(np.min(model_history[7].history['loss']))\n",
    "print(np.max(model_history[7].history['val_acc']))\n",
    "print(np.min(model_history[7].history['val_loss']))\n",
    "print(np.max(model_history[8].history['acc']))\n",
    "print(np.min(model_history[8].history['loss']))\n",
    "print(np.max(model_history[8].history['val_acc']))\n",
    "print(np.min(model_history[8].history['val_loss']))\n",
    "print(np.max(model_history[9].history['acc']))\n",
    "print(np.min(model_history[9].history['loss']))\n",
    "print(np.max(model_history[9].history['val_acc']))\n",
    "print(np.min(model_history[9].history['val_loss']))"
   ]
  },
  {
   "cell_type": "code",
   "execution_count": 21,
   "metadata": {},
   "outputs": [
    {
     "name": "stdout",
     "output_type": "stream",
     "text": [
      "[0.004867129294815151, 0.005971593306849872]\n",
      "[[3.233926924375387, 3.0401253012510447, 2.266696952856504, 1.6153097336108868, 1.0523383181828718, 0.7970849653849235, 0.5795618788554118, 0.5086099493962067, 0.4679091601417615, 0.40101513266563416, 0.3746204221477875, 0.34577827327526534, 0.37692563293071896], [0.053989954077853605, 0.05881140775118883], [0.08348655679191534, 0.07276096374083024, 0.07098105506828198, 0.08478751828750739], [0.03489536441002901, 0.07071131510803333], [0.050186976933708556, 0.03145686203900438, 0.04424814643481603], [0.01603056672656049, 0.030466330824240755], [0.0338288978404867, 0.03235956544701297, 0.032282296406964846, 0.03184388965522745, 0.04084000438272666], [0.004867129294815151, 0.005971593306849872], [0.04081745338268005, 0.04311739961401774], [0.038132403441033184, 0.038003983441740274, 0.04021111460259327]]\n",
      "Test loss: 0.025923369624293768\n",
      "Test accuracy: 0.9884615384615385\n"
     ]
    }
   ],
   "source": [
    "#Melihat nilai akurasi, loss, val akurasi dan val loss setiap fold dari histori model\n",
    "acc = []\n",
    "loss = []\n",
    "val_acc = []\n",
    "val_loss = []\n",
    "\n",
    "for i in range(0,10):\n",
    "    x = model_history[i].history['acc']\n",
    "    acc.append(x)\n",
    "    \n",
    "for i in range(0,10):\n",
    "    x = model_history[i].history['loss']\n",
    "    loss.append(x)\n",
    "    \n",
    "for i in range(0,10):\n",
    "    x = model_history[i].history['val_acc']\n",
    "    val_acc.append(x)\n",
    "    \n",
    "for i in range(0,10):\n",
    "    x = model_history[i].history['val_loss']\n",
    "    val_loss.append(x)\n",
    "    \n",
    "# print(np.max(acc))\n",
    "# print(np.min(loss))\n",
    "# print(np.max(val_acc))\n",
    "print(np.min(val_loss))\n",
    "print(val_loss)\n",
    "print('Test loss:', score[0])\n",
    "print('Test accuracy:', score[1])"
   ]
  },
  {
   "cell_type": "code",
   "execution_count": 385,
   "metadata": {},
   "outputs": [
    {
     "name": "stdout",
     "output_type": "stream",
     "text": [
      "[0.04594017008048856, 0.041666665902504556, 0.06623931538759388, 0.12820512794244748, 0.2361111107449501, 0.4049145311881334, 0.5651709416355842, 0.6314102581933013, 0.7200854677929838, 0.7724358936150869, 0.8119658085270824, 0.8279914484064803]\n",
      "[3.3631894868663235, 3.2536434938764978, 3.228353105039678, 3.04923102641717, 2.551126330326765, 1.9429062431694095, 1.4217910291547449, 1.1408880662459593, 0.8525225115128052, 0.6942078664771512, 0.5800547359081415, 0.5652355779057894]\n",
      "[0.01923076880092804, 0.11538461817858311, 0.1346153887705161, 0.3461538404226303, 0.4711538398495087, 0.6634615545089428, 0.7211538450076029, 0.7788461458224517, 0.8461538404226303, 0.8653846107996427, 0.8749999954150274, 0.8846153708604666]\n",
      "[3.262376455160288, 3.2328166915820193, 3.1766459345817566, 2.7724592181352468, 2.016541552085143, 1.3988829025855432, 0.9984017553237768, 0.8313982268938651, 0.5918403944143882, 0.5212902409526018, 0.4392138152168347, 0.45721199134221446]\n"
     ]
    }
   ],
   "source": [
    "print(model_history[0].history['acc'])\n",
    "print(model_history[0].history['loss'])\n",
    "print(model_history[0].history['val_acc'])\n",
    "print(model_history[0].history['val_loss'])"
   ]
  },
  {
   "cell_type": "code",
   "execution_count": 384,
   "metadata": {},
   "outputs": [
    {
     "name": "stdout",
     "output_type": "stream",
     "text": [
      "0.9626068414276482\n",
      "0.09656984047789095\n",
      "1.0\n",
      "0.017067654792649243\n",
      "0.9679487199864836\n",
      "0.07725596917458834\n",
      "1.0\n",
      "0.017613587157729153\n",
      "0.9711538481916118\n",
      "0.07922039516906962\n",
      "0.9807692491091214\n",
      "0.04591087733458083\n"
     ]
    }
   ],
   "source": [
    "print(np.max(model_history[7].history['acc']))\n",
    "print(np.min(model_history[7].history['loss']))\n",
    "print(np.max(model_history[7].history['val_acc']))\n",
    "print(np.min(model_history[7].history['val_loss']))\n",
    "print(np.max(model_history[8].history['acc']))\n",
    "print(np.min(model_history[8].history['loss']))\n",
    "print(np.max(model_history[8].history['val_acc']))\n",
    "print(np.min(model_history[8].history['val_loss']))\n",
    "print(np.max(model_history[9].history['acc']))\n",
    "print(np.min(model_history[9].history['loss']))\n",
    "print(np.max(model_history[9].history['val_acc']))\n",
    "print(np.min(model_history[9].history['val_loss']))"
   ]
  },
  {
   "cell_type": "code",
   "execution_count": 60,
   "metadata": {},
   "outputs": [
    {
     "name": "stdout",
     "output_type": "stream",
     "text": [
      "Execution Time: 57.579904079437256 seconds\n"
     ]
    }
   ],
   "source": []
  },
  {
   "cell_type": "code",
   "execution_count": 61,
   "metadata": {},
   "outputs": [],
   "source": [
    "acc = []\n",
    "loss = []\n",
    "val_acc = []\n",
    "val_loss = []\n",
    "for i in range(0,10):\n",
    "    x = model_history[i].history['val_acc']\n",
    "    x = np.max(x)\n",
    "    val_acc.append(x)\n",
    "        \n",
    "for i in range(0,10):\n",
    "    x = model_history[i].history['acc']\n",
    "    x = np.max(x)\n",
    "    acc.append(x)\n",
    "        \n",
    "for i in range(0,10):\n",
    "    x = model_history[i].history['loss']\n",
    "    x = np.min(x)\n",
    "    loss.append(x)\n",
    "        \n",
    "for i in range(0,10):\n",
    "    x = model_history[i].history['val_loss']\n",
    "    x = np.min(x)\n",
    "    val_loss.append(x)"
   ]
  },
  {
   "cell_type": "code",
   "execution_count": 62,
   "metadata": {},
   "outputs": [
    {
     "data": {
      "text/plain": [
       "[0.8547008575027825,\n",
       " 0.8963675149995037,\n",
       " 0.9423076861943954,\n",
       " 0.9294871690436306,\n",
       " 0.9444444362933819,\n",
       " 0.9679487133637453,\n",
       " 0.9561965733002393,\n",
       " 0.9679487128543038,\n",
       " 0.9604700791020678,\n",
       " 0.9679487131090245]"
      ]
     },
     "execution_count": 62,
     "metadata": {},
     "output_type": "execute_result"
    }
   ],
   "source": [
    "acc"
   ]
  },
  {
   "cell_type": "code",
   "execution_count": 63,
   "metadata": {},
   "outputs": [
    {
     "data": {
      "text/plain": [
       "[0.4855437205833757,\n",
       " 0.3143409821722243,\n",
       " 0.16667415666529256,\n",
       " 0.18888099245631543,\n",
       " 0.15455823513066286,\n",
       " 0.09000795651087935,\n",
       " 0.1050406180602761,\n",
       " 0.09991742256415896,\n",
       " 0.11962106034884022,\n",
       " 0.10633824645286888]"
      ]
     },
     "execution_count": 63,
     "metadata": {},
     "output_type": "execute_result"
    }
   ],
   "source": [
    "loss"
   ]
  },
  {
   "cell_type": "code",
   "execution_count": 64,
   "metadata": {},
   "outputs": [
    {
     "data": {
      "text/plain": [
       "[0.8846153914928436,\n",
       " 0.9807692261842581,\n",
       " 0.9711538392763871,\n",
       " 0.9711538392763871,\n",
       " 0.990384613092129,\n",
       " 1.0,\n",
       " 0.990384613092129,\n",
       " 1.0,\n",
       " 1.0,\n",
       " 1.0]"
      ]
     },
     "execution_count": 64,
     "metadata": {},
     "output_type": "execute_result"
    }
   ],
   "source": [
    "val_acc"
   ]
  },
  {
   "cell_type": "code",
   "execution_count": 65,
   "metadata": {},
   "outputs": [
    {
     "data": {
      "text/plain": [
       "[0.5535176465144525,\n",
       " 0.09688820181271204,\n",
       " 0.08702022947657567,\n",
       " 0.0817825619596988,\n",
       " 0.025359099850063033,\n",
       " 0.013590377227116663,\n",
       " 0.034000769825070165,\n",
       " 0.0031956921201736596,\n",
       " 0.01721936967470146,\n",
       " 0.028783317686667524]"
      ]
     },
     "execution_count": 65,
     "metadata": {},
     "output_type": "execute_result"
    }
   ],
   "source": [
    "val_loss"
   ]
  },
  {
   "cell_type": "code",
   "execution_count": 117,
   "metadata": {},
   "outputs": [],
   "source": []
  },
  {
   "cell_type": "code",
   "execution_count": 104,
   "metadata": {},
   "outputs": [
    {
     "data": {
      "text/plain": [
       "[0.9700854644816146,\n",
       " 0.9807692264389788,\n",
       " 0.9786324735380646,\n",
       " 0.974358969519281,\n",
       " 0.9732905919225807,\n",
       " 0.9882478604459355,\n",
       " 0.9818376025073549,\n",
       " 0.9711538405499907,\n",
       " 0.9850427314766452,\n",
       " 0.9797008511347648]"
      ]
     },
     "execution_count": 104,
     "metadata": {},
     "output_type": "execute_result"
    }
   ],
   "source": [
    "acc"
   ]
  },
  {
   "cell_type": "code",
   "execution_count": 99,
   "metadata": {},
   "outputs": [
    {
     "name": "stdout",
     "output_type": "stream",
     "text": [
      "0.9882478604459355\n",
      "0.04122231599852905\n",
      "1.0\n",
      "0.0013098794174416421\n",
      "Test loss: 0.028166965952536534\n",
      "Test accuracy: 0.9884615384615385\n"
     ]
    }
   ],
   "source": [
    "print(np.max(acc))\n",
    "print(np.min(loss))\n",
    "print(np.max(val_acc))\n",
    "print(np.min(val_loss))\n",
    "print('Test loss:', score[0])\n",
    "print('Test accuracy:', score[1])"
   ]
  },
  {
   "cell_type": "code",
   "execution_count": 82,
   "metadata": {},
   "outputs": [],
   "source": [
    "# I read first as training loss much greater than validation loss. That is underfitting.\n",
    "\n",
    "# I read second as training loss much less than validation loss. That is overfitting."
   ]
  },
  {
   "cell_type": "code",
   "execution_count": 110,
   "metadata": {},
   "outputs": [],
   "source": [
    "# plt.title('Accuracies vs Epochs')\n",
    "# plt.plot(model_history[0].history['acc'], label='Training Fold 1')\n",
    "# plt.plot(model_history[1].history['acc'], label='Training Fold 2')\n",
    "# plt.plot(model_history[2].history['acc'], label='Training Fold 3')\n",
    "# plt.plot(model_history[3].history['acc'], label='Training Fold 4')\n",
    "# plt.plot(model_history[4].history['acc'], label='Training Fold 5')\n",
    "# plt.plot(model_history[5].history['acc'], label='Training Fold 6')\n",
    "# plt.plot(model_history[6].history['acc'], label='Training Fold 7')\n",
    "# plt.plot(model_history[7].history['acc'], label='Training Fold 8')\n",
    "# plt.plot(model_history[8].history['acc'], label='Training Fold 9')\n",
    "# plt.plot(model_history[9].history['acc'], label='Training Fold 10')\n",
    "\n",
    "# # plt.plot(model_history[3].history['acc'], label='Training Fold 4')\n",
    "# # plt.plot(model_history[4].history['acc'], label='Training Fold 5')\n",
    "# # plt.plot(model_history[5].history['acc'], label='Training Fold 6')\n",
    "# # plt.plot(model_history[6].history['acc'], label='Training Fold 7')\n",
    "# # plt.plot(model_history[7].history['acc'], label='Training Fold 8')\n",
    "# # plt.plot(model_history[8].history['acc'], label='Training Fold 9')\n",
    "# # plt.plot(model_history[9].history['acc'], label='Training Fold 10')\n",
    "# plt.legend()\n",
    "# plt.show()\n"
   ]
  },
  {
   "cell_type": "code",
   "execution_count": 112,
   "metadata": {},
   "outputs": [],
   "source": [
    "# plt.title('Train Accuracy vs Val Accuracy')\n",
    "# plt.plot(model_history[0].history['acc'], label='Train Accuracy Fold 1', color='black')\n",
    "# plt.plot(model_history[0].history['val_acc'], label='Val Accuracy Fold 1', color='black', linestyle = \"dashdot\")\n",
    "# plt.plot(model_history[1].history['acc'], label='Train Accuracy Fold 2', color='red', )\n",
    "# plt.plot(model_history[1].history['val_acc'], label='Val Accuracy Fold 2', color='red', linestyle = \"dashdot\")\n",
    "# plt.plot(model_history[2].history['acc'], label='Train Accuracy Fold 3', color='green', )\n",
    "# plt.plot(model_history[2].history['val_acc'], label='Val Accuracy Fold 3', color='green', linestyle = \"dashdot\")\n",
    "# plt.legend()\n",
    "# plt.show()"
   ]
  },
  {
   "cell_type": "code",
   "execution_count": 48,
   "metadata": {},
   "outputs": [],
   "source": [
    "from keras.models import load_model\n",
    "model = load_model('foldmodel2.h5')"
   ]
  },
  {
   "cell_type": "code",
   "execution_count": 49,
   "metadata": {},
   "outputs": [
    {
     "name": "stdout",
     "output_type": "stream",
     "text": [
      "260/260 [==============================] - 0s 2ms/step\n"
     ]
    },
    {
     "data": {
      "text/plain": [
       "[0.028288657186098694, 0.9884615384615385]"
      ]
     },
     "execution_count": 49,
     "metadata": {},
     "output_type": "execute_result"
    }
   ],
   "source": [
    "model.evaluate(X_test, y_test)"
   ]
  },
  {
   "cell_type": "code",
   "execution_count": 50,
   "metadata": {},
   "outputs": [],
   "source": [
    "#function for converting predictions to labels\n",
    "def prep_submissions(preds_array, file_name='abc.csv'):\n",
    "    preds_df = pd.DataFrame(preds_array)\n",
    "    predicted_labels = preds_df.idxmax(axis=1) #convert back one hot encoding to categorical variabless\n",
    "    return predicted_labels"
   ]
  },
  {
   "cell_type": "code",
   "execution_count": 51,
   "metadata": {},
   "outputs": [
    {
     "data": {
      "text/plain": [
       "0       0\n",
       "1       0\n",
       "2       0\n",
       "3       0\n",
       "4       0\n",
       "       ..\n",
       "255    25\n",
       "256    25\n",
       "257    25\n",
       "258    25\n",
       "259    25\n",
       "Length: 260, dtype: int64"
      ]
     },
     "execution_count": 51,
     "metadata": {},
     "output_type": "execute_result"
    }
   ],
   "source": [
    "test_preds = model.predict(X_test)\n",
    "test_preds_labels = prep_submissions(test_preds)\n",
    "test_preds_labels"
   ]
  },
  {
   "cell_type": "code",
   "execution_count": 28,
   "metadata": {},
   "outputs": [
    {
     "name": "stdout",
     "output_type": "stream",
     "text": [
      "              precision    recall  f1-score   support\n",
      "\n",
      "           0       1.00      1.00      1.00        10\n",
      "           1       1.00      1.00      1.00        10\n",
      "           2       1.00      1.00      1.00        10\n",
      "           3       1.00      1.00      1.00        10\n",
      "           4       1.00      1.00      1.00        10\n",
      "           5       1.00      1.00      1.00        10\n",
      "           6       1.00      1.00      1.00        10\n",
      "           7       1.00      1.00      1.00        10\n",
      "           8       1.00      0.70      0.82        10\n",
      "           9       1.00      1.00      1.00        10\n",
      "          10       1.00      1.00      1.00        10\n",
      "          11       0.77      1.00      0.87        10\n",
      "          12       1.00      1.00      1.00        10\n",
      "          13       1.00      1.00      1.00        10\n",
      "          14       1.00      1.00      1.00        10\n",
      "          15       1.00      1.00      1.00        10\n",
      "          16       1.00      1.00      1.00        10\n",
      "          17       1.00      1.00      1.00        10\n",
      "          18       1.00      1.00      1.00        10\n",
      "          19       1.00      1.00      1.00        10\n",
      "          20       1.00      1.00      1.00        10\n",
      "          21       1.00      1.00      1.00        10\n",
      "          22       1.00      1.00      1.00        10\n",
      "          23       1.00      1.00      1.00        10\n",
      "          24       1.00      1.00      1.00        10\n",
      "          25       1.00      1.00      1.00        10\n",
      "\n",
      "    accuracy                           0.99       260\n",
      "   macro avg       0.99      0.99      0.99       260\n",
      "weighted avg       0.99      0.99      0.99       260\n",
      "\n"
     ]
    }
   ],
   "source": [
    "print(classification_report(y_test_label, test_preds_labels))"
   ]
  },
  {
   "cell_type": "code",
   "execution_count": 22,
   "metadata": {},
   "outputs": [
    {
     "data": {
      "image/png": "[encoded data removed]",
      "text/plain": [
       "<Figure size 432x288 with 1 Axes>"
      ]
     },
     "metadata": {
      "needs_background": "light"
     },
     "output_type": "display_data"
    }
   ],
   "source": [
    "draw_confusion_matrix(y_test_label, test_preds_labels)"
   ]
  },
  {
   "cell_type": "code",
   "execution_count": 168,
   "metadata": {},
   "outputs": [
    {
     "data": {
      "image/png": "[encoded data removed]",
      "text/plain": [
       "<Figure size 432x288 with 1 Axes>"
      ]
     },
     "metadata": {
      "needs_background": "light"
     },
     "output_type": "display_data"
    }
   ],
   "source": [
    "test_im = X_train[230]\n",
    "plt.imshow(test_im.reshape(32,32), cmap='viridis', interpolation='none')\n",
    "plt.show()"
   ]
  },
  {
   "cell_type": "code",
   "execution_count": 169,
   "metadata": {},
   "outputs": [
    {
     "name": "stderr",
     "output_type": "stream",
     "text": [
      "//anaconda3/lib/python3.7/site-packages/ipykernel_launcher.py:3: UserWarning: Update your `Model` call to the Keras 2 API: `Model(inputs=Tensor(\"co..., outputs=[<tf.Tenso...)`\n",
      "  This is separate from the ipykernel package so we can avoid doing imports until\n"
     ]
    },
    {
     "data": {
      "text/plain": [
       "<matplotlib.image.AxesImage at 0x1aa4be6a0>"
      ]
     },
     "execution_count": 169,
     "metadata": {},
     "output_type": "execute_result"
    },
    {
     "data": {
      "image/png": "[encoded data removed]",
      "text/plain": [
       "<Figure size 288x288 with 1 Axes>"
      ]
     },
     "metadata": {
      "needs_background": "light"
     },
     "output_type": "display_data"
    }
   ],
   "source": [
    "from keras import models\n",
    "layer_outputs = [layer.output for layer in model.layers[:8]]\n",
    "activation_model = models.Model(input=model.input, output=layer_outputs)\n",
    "activations = activation_model.predict(test_im.reshape(1,32,32,1))\n",
    "\n",
    "first_layer_activation = activations[0]\n",
    "plt.matshow(first_layer_activation[0, :, :, 4], cmap='viridis')"
   ]
  },
  {
   "cell_type": "code",
   "execution_count": 170,
   "metadata": {},
   "outputs": [
    {
     "name": "stderr",
     "output_type": "stream",
     "text": [
      "//anaconda3/lib/python3.7/site-packages/ipykernel_launcher.py:15: RuntimeWarning: invalid value encountered in true_divide\n",
      "  from ipykernel import kernelapp as app\n"
     ]
    },
    {
     "data": {
      "image/png": "[encoded data removed]",
      "text/plain": [
       "<Figure size 1152x144 with 1 Axes>"
      ]
     },
     "metadata": {
      "needs_background": "light"
     },
     "output_type": "display_data"
    },
    {
     "data": {
      "image/png": "[encoded data removed]",
      "text/plain": [
       "<Figure size 1152x288 with 1 Axes>"
      ]
     },
     "metadata": {
      "needs_background": "light"
     },
     "output_type": "display_data"
    },
    {
     "data": {
      "image/png": "[encoded data removed]",
      "text/plain": [
       "<Figure size 1152x576 with 1 Axes>"
      ]
     },
     "metadata": {
      "needs_background": "light"
     },
     "output_type": "display_data"
    }
   ],
   "source": [
    "layer_names = []\n",
    "for layer in model.layers[:-1]:\n",
    "    layer_names.append(layer.name) \n",
    "images_per_row = 16\n",
    "for layer_name, layer_activation in zip(layer_names, activations):\n",
    "    if layer_name.startswith('conv'):\n",
    "        n_features = layer_activation.shape[-1]\n",
    "        size = layer_activation.shape[1]\n",
    "        n_cols = n_features // images_per_row\n",
    "        display_grid = np.zeros((size * n_cols, images_per_row * size))\n",
    "        for col in range(n_cols):\n",
    "            for row in range(images_per_row):\n",
    "                channel_image = layer_activation[0,:, :, col * images_per_row + row]\n",
    "                channel_image -= channel_image.mean()\n",
    "                channel_image /= channel_image.std()\n",
    "                channel_image *= 64\n",
    "                channel_image += 128\n",
    "                channel_image = np.clip(channel_image, 0, 255).astype('uint8')\n",
    "                display_grid[col * size : (col + 1) * size,\n",
    "                             row * size : (row + 1) * size] = channel_image\n",
    "        scale = 1. / size\n",
    "        plt.figure(figsize=(scale * display_grid.shape[1],\n",
    "                            scale * display_grid.shape[0]))\n",
    "        plt.title(layer_name)\n",
    "        plt.grid(False)\n",
    "        plt.imshow(display_grid, aspect='auto', cmap='viridis')"
   ]
  },
  {
   "cell_type": "code",
   "execution_count": null,
   "metadata": {},
   "outputs": [],
   "source": [
    "# #Train the model with K-fold Cross Val\n",
    "# n_folds=10\n",
    "# epochs=20\n",
    "# batch_size=128\n",
    "# from sklearn.model_selection import KFold\n",
    "\n",
    "# #save the model history in a list after fitting so that we can plot later\n",
    "# model_history = [] \n",
    "\n",
    "# for i in range(n_folds):\n",
    "#     print(\"Training on Fold: \",i+1)\n",
    "#     t_x, val_x, t_y, val_y = train_test_split(train_x, train_y, test_size=0.1, \n",
    "#                                                random_state = np.random.randint(1,1000, 1)[0])\n",
    "#     model_history.append(fit_and_evaluate(t_x, val_x, t_y, val_y, epochs, batch_size))\n",
    "#     print(\"=======\"*12, end=\"\\n\\n\\n\")"
   ]
  },
  {
   "cell_type": "code",
   "execution_count": null,
   "metadata": {},
   "outputs": [],
   "source": [
    "# X_train = data_train.iloc[:, 1:]\n",
    "# X_train = X_train.values\n",
    "# X_train = X_train.reshape(X_train.shape[0], 32, 32, 1)\n",
    "# X_train = X_train/255\n",
    "# X_train\n",
    "# ### read the image labels and one hot encode the labels\n",
    "# # y_train_label = data_train[['label']]\n",
    "# #do one hot encoding with the earlier created function\n",
    "# y_train = one_hot_encoder(y_train_label, 'label', 'lab')\n",
    "\n",
    "# #get the labels as an array\n",
    "# y_train = y_train.values\n",
    "\n",
    "# y_train\n",
    "\n",
    "# X_train\n",
    "# y_train\n",
    "# test_x_scaled\n",
    "# test_images_y_encoded\n",
    "\n",
    "# #check to see if distribution of target labels are equal (if not equal we need to assign weights to classes)\n",
    "# plt.bar(y_train_label['label'].value_counts().index, y_train_label['label'].value_counts().values)\n",
    "\n",
    "# X_test = data_test.iloc[:,1:]\n",
    "\n",
    "# X_test = X_test.values\n",
    "# X_test = X_test.reshape(X_test.shape[0], 32, 32, 1)\n",
    "# X_test = X_test/255\n",
    "\n",
    "# #Read test dataset labels\n",
    "# y_test_label = data_test[['label']]\n",
    "# y_test = one_hot_encoder(y_test_label, 'label', 'lab')\n",
    "# #get the labels as an array\n",
    "# y_test = y_test.values"
   ]
  },
  {
   "cell_type": "code",
   "execution_count": null,
   "metadata": {},
   "outputs": [],
   "source": [
    "#one hot encoding function\n",
    "def one_hot_encoder(df_name, df_column_name, suffix=''):\n",
    "    temp = pd.get_dummies(df_name[df_column_name]) #get dummies is used to create dummy columns\n",
    "    df_name = df_name.join(temp, lsuffix=suffix) #join the newly created dummy columns to original dataframe\n",
    "    df_name = df_name.drop(df_column_name, axis=1) #drop the old column used to create dummy columnss\n",
    "    return df_name\n",
    "\n",
    "#function to draw confusion matrix\n",
    "def draw_confusion_matrix(true,preds):\n",
    "    conf_matx = confusion_matrix(true, preds)\n",
    "    sns.heatmap(conf_matx, annot=True,annot_kws={\"size\": 12},fmt='g', cbar=False, cmap=\"viridis\")\n",
    "    plt.show()\n",
    "    #return conf_matx\n",
    "    \n",
    "draw_confusion_matrix(y_test_label, test_preds_labels)"
   ]
  }
 ],
 "metadata": {
  "kernelspec": {
   "display_name": "Python 3",
   "language": "python",
   "name": "python3"
  },
  "language_info": {
   "codemirror_mode": {
    "name": "ipython",
    "version": 3
   },
   "file_extension": ".py",
   "mimetype": "text/x-python",
   "name": "python",
   "nbconvert_exporter": "python",
   "pygments_lexer": "ipython3",
   "version": "3.7.3"
  }
 },
 "nbformat": 4,
 "nbformat_minor": 4
}
